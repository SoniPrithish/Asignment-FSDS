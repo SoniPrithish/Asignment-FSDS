{
 "cells": [
  {
   "cell_type": "markdown",
   "metadata": {},
   "source": [
    "1. Assign the value 7 to the variable guess_me. Then, write the conditional tests (if, else, and elif) to\n",
    "print the string &#39;too low&#39; if guess_me is less than 7, &#39;too high&#39; if greater than 7, and &#39;just right&#39; if equal\n",
    "to 7.\n",
    "```\n",
    "guess_me = 7\n",
    "\n",
    "if guess_me < 7:\n",
    "    print('too low')\n",
    "elif guess_me > 7:\n",
    "    print('too high')\n",
    "else:\n",
    "    print('just right')\n",
    "\n",
    "```"
   ]
  },
  {
   "cell_type": "markdown",
   "metadata": {},
   "source": [
    "\n",
    "2. Assign the value 7 to the variable guess_me and the value 1 to the variable start. Write a while\n",
    "loop that compares start with guess_me. Print too low if start is less than guess me. If start equals\n",
    "guess_me, print &#39;found it!&#39; and exit the loop. If start is greater than guess_me, print &#39;oops&#39; and exit\n",
    "the loop. Increment start at the end of the loop.\n",
    "```\n",
    "guess_me = 7\n",
    "start = 1\n",
    "\n",
    "while start <= guess_me:\n",
    "    if start < guess_me:\n",
    "        print('too low')\n",
    "    elif start == guess_me:\n",
    "        print('found it!')\n",
    "        break\n",
    "    else:\n",
    "        print('oops')\n",
    "        break\n",
    "    start += 1\n",
    "\n",
    "```"
   ]
  },
  {
   "cell_type": "markdown",
   "metadata": {},
   "source": [
    "\n",
    "3. Print the following values of the list [3, 2, 1, 0] using a for loop.\n",
    "```\n",
    "my_list = [3, 2, 1, 0]\n",
    "\n",
    "for value in my_list:\n",
    "    print(value)\n",
    "\n",
    "```"
   ]
  },
  {
   "cell_type": "markdown",
   "metadata": {},
   "source": [
    "\n",
    "4. Use a list comprehension to make a list of the even numbers in range(10)\n",
    "```\n",
    "even_numbers = [num for num in range(10) if num % 2 == 0]\n",
    "print(even_numbers)\n",
    "\n",
    "```"
   ]
  },
  {
   "cell_type": "markdown",
   "metadata": {},
   "source": [
    "\n",
    "5. Use a dictionary comprehension to create the dictionary squares. Use range(10) to return the\n",
    "keys, and use the square of each key as its value.\n",
    "```\n",
    "squares = {num: num**2 for num in range(10)}\n",
    "print(squares)\n",
    "\n",
    "```"
   ]
  },
  {
   "cell_type": "markdown",
   "metadata": {},
   "source": [
    "\n",
    "6. Construct the set odd from the odd numbers in the range using a set comprehension (10).\n",
    "```\n",
    "odd = {num for num in range(10) if num % 2 != 0}\n",
    "print(odd)\n",
    "\n",
    "```"
   ]
  },
  {
   "cell_type": "markdown",
   "metadata": {},
   "source": [
    "\n",
    "7. Use a generator comprehension to return the string &#39;Got &#39; and a number for the numbers in\n",
    "range(10). Iterate through this by using a for loop.\n",
    "```\n",
    "generator = ('Got ' + str(num) for num in range(10))\n",
    "for item in generator:\n",
    "    print(item)\n",
    "\n",
    "```"
   ]
  },
  {
   "cell_type": "markdown",
   "metadata": {},
   "source": [
    "\n",
    "8. Define a function called good that returns the list [&#39;Harry&#39;, &#39;Ron&#39;, &#39;Hermione&#39;].\n",
    "```\n",
    "def good():\n",
    "    return ['Harry', 'Ron', 'Hermione']\n",
    "\n",
    "print(good())\n",
    "\n",
    "```"
   ]
  },
  {
   "cell_type": "markdown",
   "metadata": {},
   "source": [
    "\n",
    "9. Define a generator function called get_odds that returns the odd numbers from range(10). Use a\n",
    "for loop to find and print the third value returned.\n",
    "```\n",
    "def get_odds():\n",
    "    for num in range(10):\n",
    "        if num % 2 != 0:\n",
    "            yield num\n",
    "\n",
    "generator = get_odds()\n",
    "\n",
    "for _ in range(3):\n",
    "    value = next(generator)\n",
    "\n",
    "print(value)\n",
    "\n",
    "```"
   ]
  },
  {
   "cell_type": "markdown",
   "metadata": {},
   "source": [
    "\n",
    "10. Define an exception called OopsException. Raise this exception to see what happens. Then write\n",
    "the code to catch this exception and print &#39;Caught an oops&#39;.\n",
    "```\n",
    "class OopsException(Exception):\n",
    "    pass\n",
    "\n",
    "try:\n",
    "    raise OopsException('An error occurred')\n",
    "except OopsException:\n",
    "    print('Caught an oops')\n",
    "\n",
    "```"
   ]
  },
  {
   "cell_type": "markdown",
   "metadata": {},
   "source": [
    "\n",
    "11. Use zip() to make a dictionary called movies that pairs these lists: titles = [&#39;Creature of Habit&#39;,\n",
    "&#39;Crewel Fate&#39;] and plots = [&#39;A nun turns into a monster&#39;, &#39;A haunted yarn shop&#39;].\n",
    "```\n",
    "titles = ['Creature of Habit', 'Crewel Fate']\n",
    "plots = ['A nun turns into a monster', 'A haunted yarn shop']\n",
    "\n",
    "movies = dict(zip(titles, plots))\n",
    "print(movies)\n",
    "\n",
    "```"
   ]
  },
  {
   "cell_type": "markdown",
   "metadata": {},
   "source": []
  }
 ],
 "metadata": {
  "language_info": {
   "name": "python"
  },
  "orig_nbformat": 4
 },
 "nbformat": 4,
 "nbformat_minor": 2
}
