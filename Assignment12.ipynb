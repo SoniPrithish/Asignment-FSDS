{
 "cells": [
  {
   "cell_type": "markdown",
   "metadata": {},
   "source": [
    "1. In what modes should the PdfFileReader() and PdfFileWriter() File objects will be opened?\n",
    "```\n",
    "The PdfFileReader() and PdfFileWriter() File objects should be opened in 'rb' (read binary) and 'wb' (write binary) modes, respectively.\n",
    "```\n"
   ]
  },
  {
   "cell_type": "markdown",
   "metadata": {},
   "source": [
    "2. From a PdfFileReader object, how do you get a Page object for page 5?\n",
    "``````\n",
    "To get a Page object for page 5 from a PdfFileReader object, you can use the getPage() method and pass 4 as the argument (since the page numbering starts from 0).\n",
    "``````"
   ]
  },
  {
   "cell_type": "markdown",
   "metadata": {},
   "source": [
    "3. What PdfFileReader variable stores the number of pages in the PDF document?\n",
    "```\n",
    "The numPages variable of a PdfFileReader object stores the number of pages in the PDF document.\n",
    "\n",
    "```"
   ]
  },
  {
   "cell_type": "markdown",
   "metadata": {},
   "source": [
    "\n",
    "4. If a PdfFileReader object’s PDF is encrypted with the password swordfish, what must you do\n",
    "before you can obtain Page objects from it?\n",
    "```\n",
    "Before obtaining Page objects from an encrypted PdfFileReader object, you need to call the decrypt() method on the object and provide the correct password ('swordfish' in this case).\n",
    "\n",
    "```"
   ]
  },
  {
   "cell_type": "markdown",
   "metadata": {},
   "source": [
    "\n",
    "5. What methods do you use to rotate a page?\n",
    "```\n",
    "To rotate a page, you can use the rotateClockwise() or rotateCounterClockwise() methods on a Page object.\n",
    "\n",
    "```"
   ]
  },
  {
   "cell_type": "markdown",
   "metadata": {},
   "source": [
    "\n",
    "6. What is the difference between a Run object and a Paragraph object?\n",
    "```\n",
    "A Run object represents a contiguous run of text with the same style within a Paragraph. A Paragraph object represents a paragraph of text in a document.\n",
    "\n",
    "```"
   ]
  },
  {
   "cell_type": "markdown",
   "metadata": {},
   "source": [
    "\n",
    "7. How do you obtain a list of Paragraph objects for a Document object that’s stored in a variable\n",
    "named doc?\n",
    "```\n",
    "To obtain a list of Paragraph objects for a Document object stored in a variable named doc, you can use the paragraphs attribute of the Document object, like this: doc.paragraphs.\n",
    "\n",
    "```"
   ]
  },
  {
   "cell_type": "markdown",
   "metadata": {},
   "source": [
    "\n",
    "8. What type of object has bold, underline, italic, strike, and outline variables?\n",
    "```\n",
    "The Run object has bold, underline, italic, strike, and outline variables.\n",
    "\n",
    "```"
   ]
  },
  {
   "cell_type": "markdown",
   "metadata": {},
   "source": [
    "\n",
    "9. What is the difference between False, True, and None for the bold variable?\n",
    "```\n",
    "For the bold variable, False means the text is not bold, True means the text is bold, and None means the text inherits the bold setting from its style.\n",
    "\n",
    "```"
   ]
  },
  {
   "cell_type": "markdown",
   "metadata": {},
   "source": [
    "\n",
    "10. How do you create a Document object for a new Word document?\n",
    "```\n",
    "To create a Document object for a new Word document, you can use the docx.Document() constructor, like this: doc = docx.Document().\n",
    "\n",
    "```"
   ]
  },
  {
   "cell_type": "markdown",
   "metadata": {},
   "source": [
    "\n",
    "11. How do you add a paragraph with the text &#39;Hello, there!&#39; to a Document object stored in a\n",
    "variable named doc?\n",
    "```\n",
    "To add a paragraph with the text 'Hello, there!' to a Document object stored in a variable named doc, you can use the add_paragraph() method of the Document object, like this: doc.add_paragraph('Hello, there!').\n",
    "\n",
    "```"
   ]
  },
  {
   "cell_type": "markdown",
   "metadata": {},
   "source": [
    "\n",
    "12. What integers represent the levels of headings available in Word documents?\n",
    "```\n",
    "The integers 0 to 8 represent the levels of headings available in Word documents, with 0 being the highest level (main title) and 8 being the lowest level (sub-sub-sub-sub-sub-sub-sub-subtitle).\n",
    "\n",
    "\n",
    "\n",
    "\n",
    "```"
   ]
  },
  {
   "cell_type": "markdown",
   "metadata": {},
   "source": []
  }
 ],
 "metadata": {
  "language_info": {
   "name": "python"
  },
  "orig_nbformat": 4
 },
 "nbformat": 4,
 "nbformat_minor": 2
}
