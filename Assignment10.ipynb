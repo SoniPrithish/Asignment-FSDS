{
 "cells": [
  {
   "attachments": {},
   "cell_type": "markdown",
   "metadata": {},
   "source": [
    "\n",
    "How do you distinguish between shutil.copy() and shutil.copytree()?\n",
    "```\n",
    "shutil.copy() is used to copy a single file from one location to another. It takes two arguments: the source file path and the destination file path.\n",
    "shutil.copytree() is used to recursively copy an entire directory tree (including all files and subdirectories) from one location to another. It takes two arguments: the source directory path and the destination directory path.\n",
    "```"
   ]
  },
  {
   "attachments": {},
   "cell_type": "markdown",
   "metadata": {},
   "source": [
    "What function is used to rename files?\n",
    "```\n",
    "The os.rename() function is used to rename files. It takes two arguments: the current file name and the new file name (including the path if necessary).\n",
    "```"
   ]
  },
  {
   "attachments": {},
   "cell_type": "markdown",
   "metadata": {},
   "source": [
    "\n",
    "What is the difference between the delete functions in the send2trash and shutil modules?\n",
    "```\n",
    "The send2trash module provides a safe way to delete files or directories by moving them to the system's trash or recycle bin instead of permanently deleting them.\n",
    "The shutil module provides low-level file and directory operations, including a shutil.rmtree() function to recursively delete a directory and its contents, permanently removing them from the file system.\n",
    "```"
   ]
  },
  {
   "attachments": {},
   "cell_type": "markdown",
   "metadata": {},
   "source": [
    "\n",
    "ZipFile objects have a close() method just like File objects' close() method. What ZipFile method is equivalent to File objects' open() method?\n",
    "```\n",
    "The ZipFile method equivalent to File objects' open() method is ZipFile() itself. It is used to create a ZipFile object, which represents a ZIP archive. The open() method of File objects is used to open files, while the ZipFile() method of ZipFile objects is used to open ZIP archives.\n",
    "```"
   ]
  },
  {
   "cell_type": "code",
   "execution_count": null,
   "metadata": {},
   "outputs": [],
   "source": [
    "import os\n",
    "import shutil\n",
    "\n",
    "def copy_files_by_extension(source_folder, destination_folder, extension):\n",
    "    for root, dirs, files in os.walk(source_folder):\n",
    "        for file in files:\n",
    "            if file.endswith(extension):\n",
    "                source_file_path = os.path.join(root, file)\n",
    "                destination_file_path = os.path.join(destination_folder, file)\n",
    "                shutil.copy2(source_file_path, destination_file_path)\n",
    "\n",
    "# Example usage\n",
    "source_folder = '/path/to/source/folder'\n",
    "destination_folder = '/path/to/destination/folder'\n",
    "extension = '.pdf'\n",
    "\n",
    "copy_files_by_extension(source_folder, destination_folder, extension)\n"
   ]
  },
  {
   "cell_type": "code",
   "execution_count": null,
   "metadata": {},
   "outputs": [],
   "source": []
  }
 ],
 "metadata": {
  "kernelspec": {
   "display_name": "base",
   "language": "python",
   "name": "python3"
  },
  "language_info": {
   "name": "python",
   "version": "3.9.13"
  },
  "orig_nbformat": 4
 },
 "nbformat": 4,
 "nbformat_minor": 2
}
