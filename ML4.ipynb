{
 "cells": [
  {
   "cell_type": "markdown",
   "metadata": {},
   "source": [
    "1. What are the key tasks involved in getting ready to work with machine learning modeling?\n",
    "```\n",
    "key tasks involved in getting ready to work with machine learning modeling include:\n",
    "\n",
    "a) Data Collection: Gathering relevant data for the modeling task.\n",
    "\n",
    "b) Data Cleaning: Removing or handling missing data, outliers, or errors in the dataset.\n",
    "\n",
    "c) Data Preprocessing: Transforming and preparing the data for modeling, including feature scaling, encoding categorical variables, or handling imbalanced data.\n",
    "\n",
    "d) Feature Engineering: Creating new features or selecting informative features that capture relevant information for the modeling task.\n",
    "\n",
    "e) Data Splitting: Splitting the dataset into training, validation, and test sets for model training, evaluation, and final testing.\n",
    "\n",
    "f) Model Selection: Choosing an appropriate machine learning algorithm or model based on the problem type, data characteristics, and performance requirements.\n",
    "\n",
    "g) Model Training and Evaluation: Training the selected model on the training set and evaluating its performance using appropriate evaluation metrics.\n",
    "\n",
    "h) Model Optimization: Tuning the model's hyperparameters to improve its performance using techniques like cross-validation or grid search.\n",
    "\n",
    "i) Model Deployment: Deploying the trained model in a production environment to make predictions or take actions on new, unseen data.\n",
    "\n",
    "```"
   ]
  },
  {
   "cell_type": "markdown",
   "metadata": {},
   "source": [
    "2. What are the different forms of data used in machine learning? Give a specific example for each of\n",
    "them.\n",
    "```\n",
    "\n",
    "Different forms of data used in machine learning include:\n",
    "\n",
    "a) Numerical Data: Data that consists of numerical values. Example: Temperature readings over time.\n",
    "\n",
    "b) Categorical Data: Data that represents categories or labels. Example: Types of animals (dog, cat, bird).\n",
    "\n",
    "c) Textual Data: Data in the form of text. Example: Customer reviews or tweets.\n",
    "\n",
    "d) Image Data: Data in the form of images. Example: Digital photographs.\n",
    "\n",
    "e) Time Series Data: Data collected at regular time intervals. Example: Stock market prices over time.\n",
    "\n",
    "```"
   ]
  },
  {
   "cell_type": "markdown",
   "metadata": {},
   "source": [
    "3. Distinguish:\n",
    "\n",
    "1. Numeric vs. categorical attributes\n",
    "\n",
    "2. Feature selection vs. dimensionality reduction\n",
    "```\n",
    "\n",
    "Distinguish:\n",
    "\n",
    "Numeric vs. Categorical Attributes:\n",
    "Numeric attributes represent continuous or discrete numerical values, such as age or temperature. Categorical attributes represent categories or labels, such as gender or color. Numeric attributes can be further divided into interval or ratio scales, while categorical attributes can be nominal or ordinal.\n",
    "\n",
    "Feature Selection vs. Dimensionality Reduction:\n",
    "Feature selection involves selecting a subset of relevant features from the original set of features to improve model performance and reduce complexity. It aims to retain the most informative features. Dimensionality reduction, on the other hand, aims to reduce the number of features by transforming the data into a lower-dimensional space while preserving important information. It helps overcome the curse of dimensionality and improves computational efficiency.\n",
    "\n",
    "```"
   ]
  },
  {
   "cell_type": "markdown",
   "metadata": {},
   "source": [
    "\n",
    "4. Make quick notes on any two of the following:\n",
    "\n",
    "1. The histogram\n",
    "\n",
    "2. Use a scatter plot\n",
    "\n",
    "3. PCA (Personal Computer Aid)\n",
    "```\n",
    "\n",
    "Quick notes:\n",
    "\n",
    "Histogram: A histogram is a graphical representation of the distribution of a continuous numerical variable. It displays the frequencies or counts of data points falling within specified intervals (bins) along the x-axis.\n",
    "\n",
    "Scatter Plot: A scatter plot is a graphical representation of the relationship between two continuous numerical variables. It displays individual data points as dots on a two-dimensional plane, with one variable represented on the x-axis and the other on the y-axis. It helps visualize patterns, trends, or correlations between the variables.\n",
    "\n",
    "```"
   ]
  },
  {
   "cell_type": "markdown",
   "metadata": {},
   "source": [
    "\n",
    "5. Why is it necessary to investigate data? Is there a discrepancy in how qualitative and quantitative\n",
    "data are explored?\n",
    "```\n",
    "\n",
    "Investigating data is necessary to gain insights, understand patterns, identify outliers or anomalies, and make informed decisions during the modeling process. Exploring qualitative data involves techniques like content analysis or thematic analysis to uncover themes, patterns, or meanings. Exploring quantitative data involves statistical analysis to summarize and understand numerical patterns, relationships, or distributions.\n",
    "\n",
    "```"
   ]
  },
  {
   "cell_type": "markdown",
   "metadata": {},
   "source": [
    "\n",
    "6. What are the various histogram shapes? What exactly are ‘bins&#39;?\n",
    "```\n",
    "\n",
    "Various histogram shapes include:\n",
    "\n",
    "a) Normal Distribution: Bell-shaped curve with a symmetrical distribution.\n",
    "\n",
    "b) Skewed Distribution: Asymmetric distribution with a tail extending in one direction (either left or right).\n",
    "\n",
    "c) Bimodal Distribution: Distribution with two distinct peaks.\n",
    "\n",
    "d) Uniform Distribution: Distribution with a constant frequency across the range.\n",
    "\n",
    "->Bins in a histogram refer to the intervals or ranges into which the data values are grouped for counting or frequency calculation.\n",
    "\n",
    "```"
   ]
  },
  {
   "cell_type": "markdown",
   "metadata": {},
   "source": [
    "\n",
    "7. How do we deal with data outliers?\n",
    "```\n",
    "\n",
    "Outliers in data can be dealt with using techniques such as:\n",
    "\n",
    "a) Removal: Outliers can be removed from the dataset if they are determined to be errors or anomalies.\n",
    "\n",
    "b) Transformation: Outliers can be transformed using techniques like log transformation to reduce their impact on the analysis.\n",
    "\n",
    "c) Winsorization: Outliers can be replaced with a trimmed value (e.g., the maximum or minimum value within a certain range) to lessen their influence.\n",
    "\n",
    "```"
   ]
  },
  {
   "cell_type": "markdown",
   "metadata": {},
   "source": [
    "\n",
    "8. What are the various central inclination measures? Why does mean vary too much from median in\n",
    "certain data sets?\n",
    "```\n",
    "\n",
    "Various central inclination measures include:\n",
    "\n",
    "a) Mean: The average value of a dataset. It can be affected by extreme values or outliers.\n",
    "\n",
    "b) Median: The middle value in a sorted dataset. It is less sensitive to extreme values.\n",
    "\n",
    "c) Mode: The most frequent value in a dataset.\n",
    "\n",
    "Mean may vary significantly from the median in certain datasets when there are extreme values or when the distribution is skewed.\n",
    "\n",
    "```"
   ]
  },
  {
   "cell_type": "markdown",
   "metadata": {},
   "source": [
    "\n",
    "9. Describe how a scatter plot can be used to investigate bivariate relationships. Is it possible to find\n",
    "outliers using a scatter plot?\n",
    "```\n",
    "\n",
    "A scatter plot can be used to investigate bivariate relationships by plotting two continuous numerical variables on the x and y axes. It helps visualize the distribution of data points and identify any patterns, trends, or relationships between the variables. Outliers can be identified as data points that deviate significantly from the general pattern.\n",
    "\n",
    "```"
   ]
  },
  {
   "cell_type": "markdown",
   "metadata": {},
   "source": [
    "\n",
    "10. Describe how cross-tabs can be used to figure out how two variables are related.\n",
    "```\n",
    "\n",
    "Cross-tabs, or contingency tables, can be used to analyze the relationship between two categorical variables. It displays the frequency or count of occurrences for each combination of categories in the two variables. It helps identify associations, dependencies, or patterns between the variables and assess their relationship strength.\n",
    "\n",
    "\n",
    "\n",
    "\n",
    "\n",
    "\n",
    "```"
   ]
  }
 ],
 "metadata": {
  "language_info": {
   "name": "python"
  },
  "orig_nbformat": 4
 },
 "nbformat": 4,
 "nbformat_minor": 2
}
