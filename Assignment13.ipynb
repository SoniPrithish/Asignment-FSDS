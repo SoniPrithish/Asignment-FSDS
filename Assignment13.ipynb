{
 "cells": [
  {
   "cell_type": "markdown",
   "metadata": {},
   "source": [
    "1. What advantages do Excel spreadsheets have over CSV spreadsheets?\n",
    "```\n",
    "Advantages of Excel spreadsheets over CSV spreadsheets:\n",
    "\n",
    "Excel spreadsheets can contain multiple sheets within a single file, while CSV is limited to a single sheet per file.\n",
    "Excel supports more advanced formatting options such as cell styles, formulas, conditional formatting, and charts.\n",
    "Excel provides features like filtering, sorting, and data validation.\n",
    "Excel allows for the inclusion of images, graphs, and other visual elements.\n",
    "Excel files can be password-protected and encrypted for added security.\n",
    "```"
   ]
  },
  {
   "cell_type": "markdown",
   "metadata": {},
   "source": [
    "\n",
    "2.What do you pass to csv.reader() and csv.writer() to create reader and writer objects?\n",
    "```\n",
    "\n",
    "To create reader and writer objects with the csv module, you pass a File object to csv.reader() and csv.writer(). Typically, you open a CSV file using the open() function and pass the resulting File object to these functions.\n",
    "\n",
    "```"
   ]
  },
  {
   "cell_type": "markdown",
   "metadata": {},
   "source": [
    "\n",
    "3. What modes do File objects for reader and writer objects need to be opened in?\n",
    "```\n",
    "\n",
    "File objects for reader and writer objects need to be opened in text mode and specify the appropriate file access mode. For reading a CSV file, the mode should be 'r'. For writing to a CSV file, the mode should be 'w' or 'a' (if you want to append data to an existing file).\n",
    "\n",
    "```"
   ]
  },
  {
   "cell_type": "markdown",
   "metadata": {},
   "source": [
    "\n",
    "4. What method takes a list argument and writes it to a CSV file?\n",
    "```\n",
    "\n",
    "The writerow() method is used to write a list of data elements as a row in a CSV file. You pass the list as an argument to this method.\n",
    "\n",
    "```"
   ]
  },
  {
   "cell_type": "markdown",
   "metadata": {},
   "source": [
    "\n",
    "5. What do the keyword arguments delimiter and line terminator do?\n",
    "```\n",
    "\n",
    "The delimiter keyword argument is used to specify the character that separates fields in a CSV file. The default delimiter is a comma (','), but it can be changed to any other character or string.\n",
    "\n",
    "The line terminator keyword argument is used to specify the string used to terminate a line in a CSV file. The default line terminator is a newline character ('\\n'), but it can be changed to other characters or strings.\n",
    "\n",
    "```"
   ]
  },
  {
   "cell_type": "markdown",
   "metadata": {},
   "source": [
    "\n",
    "6. What function takes a string of JSON data and returns a Python data structure?\n",
    "```\n",
    "\n",
    "\n",
    "The json.loads() function takes a string of JSON data as input and converts it into a Python data structure, such as a dictionary or a list.\n",
    "\n",
    "```"
   ]
  },
  {
   "cell_type": "markdown",
   "metadata": {},
   "source": [
    "\n",
    "7. What function takes a Python data structure and returns a string of JSON data?\n",
    "```\n",
    "\n",
    "The json.dumps() function takes a Python data structure, such as a dictionary or a list, and converts it into a string of JSON data. This allows the Python data to be serialized into a JSON format for storage or transmission.\n",
    "```"
   ]
  },
  {
   "cell_type": "markdown",
   "metadata": {},
   "source": []
  }
 ],
 "metadata": {
  "language_info": {
   "name": "python"
  },
  "orig_nbformat": 4
 },
 "nbformat": 4,
 "nbformat_minor": 2
}
