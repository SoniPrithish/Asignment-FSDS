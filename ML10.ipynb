{
 "cells": [
  {
   "cell_type": "markdown",
   "metadata": {},
   "source": [
    "1. Define the Bayesian interpretation of probability.\n",
    "```\n",
    "The Bayesian interpretation of probability is a statistical framework that treats probability as a measure of subjective belief or degree of confidence in an event or hypothesis. It involves updating and revising probabilities based on new evidence or information. In the Bayesian approach, probability is viewed as a representation of uncertainty rather than a long-term frequency.\n",
    "\n",
    "\n",
    "```"
   ]
  },
  {
   "cell_type": "markdown",
   "metadata": {},
   "source": [
    "\n",
    "2. Define probability of a union of two events with equation.\n",
    "```\n",
    "The probability of the union of two events A and B is calculated using the following equation:\n",
    "P(A ∪ B) = P(A) + P(B) - P(A ∩ B)\n",
    "Here, P(A) and P(B) represent the probabilities of events A and B, respectively, and P(A ∩ B) represents the probability of the intersection of events A and B.\n",
    "\n",
    "```"
   ]
  },
  {
   "cell_type": "markdown",
   "metadata": {},
   "source": [
    "\n",
    "3. What is joint probability? What is its formula?\n",
    "```\n",
    "\n",
    "Joint probability refers to the probability of two or more events occurring simultaneously. It measures the likelihood of the intersection of multiple events. The joint probability of events A and B is denoted as P(A ∩ B) and is calculated using the formula:\n",
    "P(A ∩ B) = P(A) * P(B|A)\n",
    "where P(A) is the probability of event A, and P(B|A) is the conditional probability of event B given that event A has occurred.\n",
    "\n",
    "```"
   ]
  },
  {
   "cell_type": "markdown",
   "metadata": {},
   "source": [
    "\n",
    "4. What is chain rule of probability?\n",
    "```\n",
    "\n",
    "The chain rule of probability, also known as the multiplication rule, states that the joint probability of multiple events can be calculated by multiplying the conditional probabilities of each event given the occurrence of the preceding events. Mathematically, it can be expressed as:\n",
    "P(A₁, A₂, ..., Aₙ) = P(A₁) * P(A₂|A₁) * P(A₃|A₁, A₂) * ... * P(Aₙ|A₁, A₂, ..., Aₙ₋₁)\n",
    "\n",
    "```"
   ]
  },
  {
   "cell_type": "markdown",
   "metadata": {},
   "source": [
    "\n",
    "5. What is conditional probability means? What is the formula of it?\n",
    "```\n",
    "\n",
    "Conditional probability measures the probability of an event B occurring given that event A has already occurred. It is denoted as P(B|A) and is calculated using the formula:\n",
    "P(B|A) = P(A ∩ B) / P(A)\n",
    "where P(A ∩ B) is the joint probability of events A and B, and P(A) is the probability of event A.\n",
    "\n",
    "\n",
    "```"
   ]
  },
  {
   "cell_type": "markdown",
   "metadata": {},
   "source": [
    "6. What are continuous random variables?\n",
    "\n",
    "```\n",
    "Continuous random variables are variables that can take on any value within a specified range or interval. They are characterized by a continuous probability distribution. Examples of continuous random variables include height, weight, temperature, and time.\n",
    "\n",
    "```"
   ]
  },
  {
   "cell_type": "markdown",
   "metadata": {},
   "source": [
    "7. What are Bernoulli distributions? What is the formula of it?\n",
    "```\n",
    "\n",
    "Bernoulli distribution is a discrete probability distribution that models a binary outcome or an event with two possible outcomes, typically labeled as success (1) and failure (0). It is characterized by a single parameter, p, which represents the probability of success. The probability mass function (PMF) of the Bernoulli distribution is given by:\n",
    "P(X = k) = p^k * (1-p)^(1-k)\n",
    "where X is the random variable, k can take values 0 or 1, and p is the probability of success.\n",
    "\n",
    "\n",
    "```"
   ]
  },
  {
   "cell_type": "markdown",
   "metadata": {},
   "source": [
    "8. What is binomial distribution? What is the formula?\n",
    "```\n",
    "Binomial distribution is a discrete probability distribution that models the number of successes in a fixed number of independent Bernoulli trials. It is characterized by two parameters: the number of trials (n) and the probability of success in each trial (p). The probability mass function (PMF) of the binomial distribution is given by:\n",
    "P(X = k) = C(n, k) * p^k * (1-p)^(n-k)\n",
    "where X is the random variable, k represents the number of successes, n is the number of trials, p is the probability of success, and C(n, k) is the binomial coefficient.\n",
    "\n",
    "\n",
    "```"
   ]
  },
  {
   "cell_type": "markdown",
   "metadata": {},
   "source": [
    "9. What is Poisson distribution? What is the formula?\n",
    "```\n",
    "Poisson distribution is a discrete probability distribution that models the number of events occurring in a fixed interval of time or space, given a constant average rate of occurrence. It is characterized by a single parameter, λ (lambda), which represents the average rate of events. The probability mass function (PMF) of the Poisson distribution is given by:\n",
    "P(X = k) = (e^(-λ) * λ^k) / k!\n",
    "where X is the random variable, k represents the number of events, e is the base of the natural logarithm, and k! is the factorial of k.\n",
    "\n",
    "\n",
    "```"
   ]
  },
  {
   "cell_type": "markdown",
   "metadata": {},
   "source": [
    "\n",
    "10. Define covariance.\n",
    "```\n",
    "Covariance is a measure of the relationship between two random variables. It indicates the extent to which the variables vary together. Mathematically, covariance between two random variables X and Y is defined as:\n",
    "Cov(X, Y) = E[(X - μX) * (Y - μY)]\n",
    "where E represents the expectation or average, X and Y are the random variables, and μX and μY are their respective means.\n",
    "\n",
    "\n",
    "```"
   ]
  },
  {
   "cell_type": "markdown",
   "metadata": {},
   "source": [
    "\n",
    "11. Define correlation\n",
    "```\n",
    "Correlation measures the strength and direction of the linear relationship between two random variables. It is a standardized measure that ranges from -1 to 1. A correlation of 1 indicates a perfect positive linear relationship, -1 indicates a perfect negative linear relationship, and 0 indicates no linear relationship. Correlation is calculated as the covariance between two variables divided by the product of their standard deviations.\n",
    "\n",
    "\n",
    "```"
   ]
  },
  {
   "cell_type": "markdown",
   "metadata": {},
   "source": [
    "\n",
    "12. Define sampling with replacement. Give example.\n",
    "```\n",
    "Sampling with replacement is a method of selecting items or individuals from a population where each selection is independent and has an equal probability of being chosen. After each selection, the selected item is returned to the population, allowing the possibility of selecting it again. For example, randomly selecting a card from a deck, noting it, and then placing it back in the deck before the next selection.\n",
    "\n",
    "\n",
    "```"
   ]
  },
  {
   "cell_type": "markdown",
   "metadata": {},
   "source": [
    "\n",
    "13. What is sampling without replacement? Give example.\n",
    "```\n",
    "Sampling without replacement is a method of selecting items or individuals from a population where each selection reduces the available choices for subsequent selections. Once an item is selected, it is not returned to the population, making it impossible to select the same item more than once. For example, randomly selecting students from a classroom to form a group, ensuring that each student is selected only once.\n",
    "\n",
    "\n",
    "\n",
    "\n",
    "```"
   ]
  },
  {
   "cell_type": "markdown",
   "metadata": {},
   "source": [
    "\n",
    "14. What is hypothesis? Give example.\n",
    "```\n",
    "Hypothesis refers to a proposed explanation or statement about a population or phenomenon that can be tested using data and statistical analysis. It is typically formulated as a null hypothesis (H0) and an alternative hypothesis (Ha). The null hypothesis represents the default assumption or no effect, while the alternative hypothesis represents the claim or effect being tested. For example, testing whether a new drug has a significant impact on reducing symptoms (alternative hypothesis) compared to a placebo (null hypothesis).\n",
    "\n",
    "\n",
    "\n",
    "```"
   ]
  }
 ],
 "metadata": {
  "language_info": {
   "name": "python"
  },
  "orig_nbformat": 4
 },
 "nbformat": 4,
 "nbformat_minor": 2
}
