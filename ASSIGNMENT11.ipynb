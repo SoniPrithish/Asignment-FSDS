{
 "cells": [
  {
   "attachments": {},
   "cell_type": "markdown",
   "metadata": {},
   "source": [
    "\n",
    "1.Create an assert statement that throws an AssertionError if the variable spam is a negative integer.\n",
    "```\n",
    "\n",
    "assert spam >= 0, \"Variable 'spam' should not be a negative integer.\"\n",
    "```"
   ]
  },
  {
   "attachments": {},
   "cell_type": "markdown",
   "metadata": {},
   "source": [
    "2. Write an assert statement that triggers an AssertionError if the variables eggs and bacon contain\n",
    "strings that are the same as each other, even if their cases are different (that is, &#39;hello&#39; and &#39;hello&#39; are\n",
    "considered the same, and &#39;goodbye&#39; and &#39;GOODbye&#39; are also considered the same).\n",
    "```\n",
    "assert eggs.lower() != bacon.lower(), \"Variables 'eggs' and 'bacon' should not have the same string value.\"\n",
    "\n",
    "```"
   ]
  },
  {
   "attachments": {},
   "cell_type": "markdown",
   "metadata": {},
   "source": [
    "3.Create an assert statement that throws an AssertionError every time.\n",
    "```\n",
    "assert False, \"This assert statement always triggers an AssertionError.\"\n",
    "```"
   ]
  },
  {
   "attachments": {},
   "cell_type": "markdown",
   "metadata": {},
   "source": [
    "4. What are the two lines that must be present in your software in order to call logging.debug()?\n",
    "```\n",
    "The two lines that must be present in your software in order to call logging.debug() are:\n",
    "import logging\n",
    "logging.basicConfig(level=logging.DEBUG)\n",
    "```"
   ]
  },
  {
   "attachments": {},
   "cell_type": "markdown",
   "metadata": {},
   "source": [
    "5. What are the two lines that your program must have in order to have logging.debug() send a\n",
    "logging message to a file named programLog.txt?\n",
    "```\n",
    "import logging\n",
    "logging.basicConfig(filename='programLog.txt', level=logging.DEBUG)\n",
    "\n",
    "```"
   ]
  },
  {
   "attachments": {},
   "cell_type": "markdown",
   "metadata": {},
   "source": [
    "6. What are the five levels of logging?\n",
    "```\n",
    "The five levels of logging, in increasing order of severity, are:\n",
    "DEBUG\n",
    "INFO\n",
    "WARNING\n",
    "ERROR\n",
    "CRITICAL\n",
    "```"
   ]
  },
  {
   "attachments": {},
   "cell_type": "markdown",
   "metadata": {},
   "source": [
    "7. What line of code would you add to your software to disable all logging messages?\n",
    "```\n",
    "logging.disable(logging.CRITICAL)\n",
    "\n",
    "```\n"
   ]
  },
  {
   "attachments": {},
   "cell_type": "markdown",
   "metadata": {},
   "source": [
    "8.Why is using logging messages better than using print() to display the same message?\n",
    "```\n",
    "Using logging messages is better than using print() to display the same message because:\n",
    "Logging allows you to control the verbosity level of the messages, so you can easily enable or disable them.\n",
    "Logging provides different levels of severity, allowing you to differentiate between informational messages, warnings, and errors.\n",
    "Logging messages can be redirected to different outputs, such as a file or a network stream, making it more flexible for debugging and troubleshooting.\n",
    "```\n"
   ]
  },
  {
   "attachments": {},
   "cell_type": "markdown",
   "metadata": {},
   "source": [
    "9. What are the differences between the Step Over, Step In, and Step Out buttons in the debugger?\n",
    "```\n",
    "The differences between the Step Over, Step In, and Step Out buttons in the debugger are:\n",
    "Step Over: Executes the current line of code and moves to the next line in the same function. If the current line contains a function call, it executes the entire function without stepping into it.\n",
    "Step In: If the current line of code contains a function call, it enters the called function and moves to the first line of that function.\n",
    "Step Out: If the debugger is currently inside a function, it executes the remaining lines of that function and returns to the line that called the function.\n",
    "```"
   ]
  },
  {
   "attachments": {},
   "cell_type": "markdown",
   "metadata": {},
   "source": [
    "\n",
    "10.After you click Continue, when will the debugger stop ?\n",
    "```\n",
    "After you click Continue, the debugger will stop when it encounters the next breakpoint or when the program execution is completed.\n",
    "```"
   ]
  },
  {
   "attachments": {},
   "cell_type": "markdown",
   "metadata": {},
   "source": [
    "\n",
    "11. What is the concept of a breakpoint?\n",
    "```\n",
    "A breakpoint is a designated point in your code where the debugger will pause execution, allowing you to inspect the program's state and step through the code line by line. It helps in debugging by allowing you to examine variables, evaluate expressions, and understand the flow of execution at specific points in the code.\n",
    "\n",
    "```"
   ]
  },
  {
   "attachments": {},
   "cell_type": "markdown",
   "metadata": {},
   "source": []
  }
 ],
 "metadata": {
  "kernelspec": {
   "display_name": "base",
   "language": "python",
   "name": "python3"
  },
  "language_info": {
   "codemirror_mode": {
    "name": "ipython",
    "version": 3
   },
   "file_extension": ".py",
   "mimetype": "text/x-python",
   "name": "python",
   "nbconvert_exporter": "python",
   "pygments_lexer": "ipython3",
   "version": "3.9.13"
  },
  "orig_nbformat": 4
 },
 "nbformat": 4,
 "nbformat_minor": 2
}
