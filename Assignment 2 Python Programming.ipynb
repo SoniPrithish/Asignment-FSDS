{
 "cells": [
  {
   "cell_type": "markdown",
   "id": "2cae9c90",
   "metadata": {},
   "source": [
    "1. Write a Python program to convert kilometers to miles?"
   ]
  },
  {
   "cell_type": "code",
   "execution_count": 1,
   "id": "4890b00f",
   "metadata": {},
   "outputs": [
    {
     "name": "stdout",
     "output_type": "stream",
     "text": [
      "Enter distance in Km20\n",
      "20 Km is 12.42742 miles \n"
     ]
    }
   ],
   "source": [
    "a=int(input(\"Enter distance in Km\"))\n",
    "print(a,\"Km is\",a*0.621371,\"miles \")"
   ]
  },
  {
   "cell_type": "markdown",
   "id": "32457fc9",
   "metadata": {},
   "source": [
    "2. Write a Python program to convert Celsius to Fahrenheit?"
   ]
  },
  {
   "cell_type": "code",
   "execution_count": 2,
   "id": "36e286c3",
   "metadata": {},
   "outputs": [
    {
     "name": "stdout",
     "output_type": "stream",
     "text": [
      "Temperature in Celsius0\n",
      "0 deg Celsius is  32.0  deg Farhenheit\n"
     ]
    }
   ],
   "source": [
    "a=int(input(\"Temperature in Celsius\"))\n",
    "b=(a*9/5)+32\n",
    "print(a,\"deg Celsius is \",b,\" deg Farhenheit\")"
   ]
  },
  {
   "cell_type": "markdown",
   "id": "f154e939",
   "metadata": {},
   "source": [
    "3. Write a Python program to display calendar?"
   ]
  },
  {
   "cell_type": "code",
   "execution_count": 3,
   "id": "2866a75f",
   "metadata": {},
   "outputs": [
    {
     "name": "stdout",
     "output_type": "stream",
     "text": [
      "Month no1\n",
      "Year2002\n",
      "    January 2002\n",
      "Mo Tu We Th Fr Sa Su\n",
      "    1  2  3  4  5  6\n",
      " 7  8  9 10 11 12 13\n",
      "14 15 16 17 18 19 20\n",
      "21 22 23 24 25 26 27\n",
      "28 29 30 31\n",
      "\n"
     ]
    }
   ],
   "source": [
    "import calendar\n",
    "a=int(input(\"Month no\"))\n",
    "b=int(input(\"Year\"))\n",
    "print(calendar.month(b,a))"
   ]
  },
  {
   "cell_type": "markdown",
   "id": "2ef68a02",
   "metadata": {},
   "source": [
    "4. Write a Python program to solve quadratic equation?"
   ]
  },
  {
   "cell_type": "code",
   "execution_count": 11,
   "id": "8f7bd99f",
   "metadata": {},
   "outputs": [
    {
     "name": "stdout",
     "output_type": "stream",
     "text": [
      "Enter a 5\n",
      "Enter b -4\n",
      "Enter c -9\n",
      "Quadratic Equation formed is 5 x^2 + -4 x + -9\n",
      "Real Roots Exist\n",
      "Roots are (1.8+0j) and (-1+0j)\n"
     ]
    }
   ],
   "source": [
    "import cmath\n",
    "#Solution for Quadratic equation is b^2+-4ac/2a if root>=0 else imaginary roots\n",
    "# Quadratic equation = ax^2+bx+c\n",
    "a=int(input(\"Enter a \"))\n",
    "b=int(input(\"Enter b \"))\n",
    "c=int(input(\"Enter c \"))\n",
    "print(\"Quadratic Equation formed is\",a,\"x^2 +\",b,\"x +\",c)\n",
    "#Finding Discriminant d\n",
    "d=(b**2-4*a*c)\n",
    "g=(-b+cmath.sqrt(d))/(2*a)\n",
    "f=(-b-cmath.sqrt(d))/(2*a)\n",
    "\n",
    "\n",
    "if d>=0:\n",
    "    print(\"Real Roots Exist\")\n",
    "    print(\"Roots are\",g,\"and\",f)\n",
    "    \n",
    "else:\n",
    "    print(\"Imaginary Roots\")\n",
    "    print(\"Roots are\",g,\"and\",f)"
   ]
  },
  {
   "cell_type": "markdown",
   "id": "55bbeb0e",
   "metadata": {},
   "source": [
    "5. Write a Python program to swap two variables without temp variable?"
   ]
  },
  {
   "cell_type": "code",
   "execution_count": 12,
   "id": "870893e1",
   "metadata": {},
   "outputs": [
    {
     "name": "stdout",
     "output_type": "stream",
     "text": [
      "Before Swapping A and B are 5 3\n",
      "After Swapping A and B are 3 5\n"
     ]
    }
   ],
   "source": [
    "a=5\n",
    "b=3\n",
    "print(\"Before Swapping A and B are\",a,b)\n",
    "a=a+b\n",
    "b=a-b\n",
    "a=a-b\n",
    "print(\"After Swapping A and B are\",a,b)"
   ]
  },
  {
   "cell_type": "code",
   "execution_count": null,
   "id": "6ba299f4",
   "metadata": {},
   "outputs": [],
   "source": []
  }
 ],
 "metadata": {
  "kernelspec": {
   "display_name": "Python 3",
   "language": "python",
   "name": "python3"
  },
  "language_info": {
   "codemirror_mode": {
    "name": "ipython",
    "version": 3
   },
   "file_extension": ".py",
   "mimetype": "text/x-python",
   "name": "python",
   "nbconvert_exporter": "python",
   "pygments_lexer": "ipython3",
   "version": "3.8.8"
  }
 },
 "nbformat": 4,
 "nbformat_minor": 5
}
