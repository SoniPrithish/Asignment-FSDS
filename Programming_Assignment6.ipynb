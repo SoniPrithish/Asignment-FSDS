{
 "cells": [
  {
   "cell_type": "markdown",
   "id": "20d57817",
   "metadata": {},
   "source": [
    "1. Write a Python Program to Display Fibonacci Sequence Using Recursion?"
   ]
  },
  {
   "cell_type": "code",
   "execution_count": 29,
   "id": "a00171ed",
   "metadata": {},
   "outputs": [],
   "source": [
    "def fibs(n):\n",
    "    if n<=1:\n",
    "        return n\n",
    "    \n",
    "    else:\n",
    "        return fibs(n-1)+fibs(n-2)"
   ]
  },
  {
   "cell_type": "code",
   "execution_count": 30,
   "id": "291e9990",
   "metadata": {},
   "outputs": [
    {
     "name": "stdout",
     "output_type": "stream",
     "text": [
      "0\n",
      "1\n",
      "1\n",
      "2\n",
      "3\n",
      "5\n",
      "8\n",
      "13\n",
      "21\n",
      "34\n"
     ]
    }
   ],
   "source": [
    "for i in range(10):\n",
    "    print(fibs(i))"
   ]
  },
  {
   "cell_type": "markdown",
   "id": "f9cbff88",
   "metadata": {},
   "source": [
    "2. Write a Python Program to Find Factorial of Number Using Recursion?"
   ]
  },
  {
   "cell_type": "code",
   "execution_count": 28,
   "id": "9b42b183",
   "metadata": {},
   "outputs": [
    {
     "name": "stdout",
     "output_type": "stream",
     "text": [
      "Enter a Number to Find Factorial5\n",
      "The Factorial of the number 5 is 120\n"
     ]
    }
   ],
   "source": [
    "\n",
    "def fact(n):\n",
    "    factrl=1*n\n",
    "    \n",
    "    if n==1:\n",
    "        return factrl\n",
    "    else:\n",
    "        return factrl*fact(n-1) \n",
    "a=int(input(\"Enter a Number to Find Factorial\"))\n",
    "    \n",
    "print(f\"The Factorial of the number {a} is {fact(a)}\")"
   ]
  },
  {
   "cell_type": "markdown",
   "id": "6aaed514",
   "metadata": {},
   "source": [
    "3. Write a Python Program to calculate your Body Mass Index?"
   ]
  },
  {
   "cell_type": "code",
   "execution_count": 18,
   "id": "9dc3043f",
   "metadata": {},
   "outputs": [
    {
     "name": "stdout",
     "output_type": "stream",
     "text": [
      "Enter Your Height in M1.75\n",
      "Enter your Weight in Kgs80\n",
      "YOUR BMI IS 26.122448979591837\n"
     ]
    }
   ],
   "source": [
    "ht=float(input(\"Enter Your Height in M\"))\n",
    "wt=float(input(\"Enter your Weight in Kgs\"))\n",
    "Bmi=wt/(ht**2)\n",
    "print(f\"YOUR BMI IS {Bmi}\")"
   ]
  },
  {
   "cell_type": "markdown",
   "id": "4a619f4f",
   "metadata": {},
   "source": [
    "4. Write a Python Program to calculate the natural logarithm of any number?"
   ]
  },
  {
   "cell_type": "code",
   "execution_count": 15,
   "id": "363cef02",
   "metadata": {},
   "outputs": [
    {
     "name": "stdout",
     "output_type": "stream",
     "text": [
      "Enter A number to find Natural log of number2.71\n"
     ]
    },
    {
     "data": {
      "text/plain": [
       "0.9969486348916096"
      ]
     },
     "execution_count": 15,
     "metadata": {},
     "output_type": "execute_result"
    }
   ],
   "source": [
    "import numpy as np\n",
    "n=float(input(\"Enter A number to find Natural log of number\"))\n",
    "np.log(n)"
   ]
  },
  {
   "cell_type": "markdown",
   "id": "5973d343",
   "metadata": {},
   "source": [
    "5. Write a Python Program for cube sum of first n natural numbers?"
   ]
  },
  {
   "cell_type": "code",
   "execution_count": 6,
   "id": "2aea5349",
   "metadata": {},
   "outputs": [
    {
     "name": "stdout",
     "output_type": "stream",
     "text": [
      "Enter Value for n10\n",
      "Cube sum for first 10 natural numbers is 3025\n"
     ]
    }
   ],
   "source": [
    "n=int(input(\"Enter Value for n\"))\n",
    "sum=0\n",
    "for i in range(1,n+1):\n",
    "    sum=sum+(i**3)\n",
    "    \n",
    "print(f\"Cube sum for first {n} natural numbers is {sum}\")"
   ]
  },
  {
   "cell_type": "code",
   "execution_count": null,
   "id": "f002aa25",
   "metadata": {},
   "outputs": [],
   "source": []
  }
 ],
 "metadata": {
  "kernelspec": {
   "display_name": "Python 3",
   "language": "python",
   "name": "python3"
  },
  "language_info": {
   "codemirror_mode": {
    "name": "ipython",
    "version": 3
   },
   "file_extension": ".py",
   "mimetype": "text/x-python",
   "name": "python",
   "nbconvert_exporter": "python",
   "pygments_lexer": "ipython3",
   "version": "3.8.8"
  }
 },
 "nbformat": 4,
 "nbformat_minor": 5
}
