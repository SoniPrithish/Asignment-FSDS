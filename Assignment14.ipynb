{
 "cells": [
  {
   "cell_type": "markdown",
   "metadata": {},
   "source": [
    "1. What does RGBA stand for?\n",
    "```\n",
    "RGBA stands for Red, Green, Blue, and Alpha. It is a color model that represents colors using a combination of red, green, and blue color channels, along with an alpha channel for transparency.\n",
    "\n",
    "```"
   ]
  },
  {
   "cell_type": "markdown",
   "metadata": {},
   "source": [
    "\n",
    "2. From the Pillow module, how do you get the RGBA value of any images?\n",
    "```\n",
    "\n",
    "To get the RGBA value of an image using the Pillow module, you can use the getpixel() method of the Image object. This method returns the RGBA value of a specific pixel in the image.\n",
    "\n",
    "```"
   ]
  },
  {
   "cell_type": "markdown",
   "metadata": {},
   "source": [
    "\n",
    "3. What is a box tuple, and how does it work?\n",
    "```\n",
    "\n",
    "A box tuple is a tuple that represents a rectangular region within an image. It consists of four values: (left, upper, right, lower), where left and upper are the coordinates of the top-left corner of the box, and right and lower are the coordinates of the bottom-right corner of the box. The box tuple is used to define a region of interest or perform operations on a specific area of an image.\n",
    "\n",
    "```"
   ]
  },
  {
   "cell_type": "markdown",
   "metadata": {},
   "source": [
    "\n",
    "4. Use your image and load in notebook then, How can you find out the width and height of an\n",
    "Image object?\n",
    "```\n",
    "\n",
    "To find out the width and height of an Image object, you can use the size attribute. Accessing image_object.size will return a tuple containing the width and height of the image.\n",
    " and pass the Image object as an argument. The ImageDraw object has various methods for drawing shapes and text on the Image object. For example: draw = ImageDraw.Draw(image_object).\n",
    "```"
   ]
  },
  {
   "cell_type": "markdown",
   "metadata": {},
   "source": [
    "\n",
    "5. What method would you call to get Image object for a 100×100 image, excluding the lower-left\n",
    "quarter of it?\n",
    "```\n",
    "\n",
    "To get an Image object for a 100x100 image, excluding the lower-left quarter of it, you can use the crop() method of the Image object. By passing the appropriate box tuple representing the region you want to crop, you can obtain a new Image object that represents the cropped region.\n",
    "\n",
    "```"
   ]
  },
  {
   "cell_type": "markdown",
   "metadata": {},
   "source": [
    "\n",
    "6. After making changes to an Image object, how could you save it as an image file?\n",
    "```\n",
    "\n",
    "After making changes to an Image object, you can save it as an image file using the save() method of the Image object. You specify the desired filename and file format as the arguments to the method. For example: image_object.save(\"output.jpg\").\n",
    "\n",
    "```"
   ]
  },
  {
   "cell_type": "markdown",
   "metadata": {},
   "source": [
    "\n",
    "7. What module contains Pillow’s shape-drawing code?\n",
    "```\n",
    "\n",
    "The module that contains Pillow's shape-drawing code is PIL.ImageDraw. This module provides classes and functions for drawing on Image objects, such as drawing lines, rectangles, circles, and other shapes.\n",
    "\n",
    "```"
   ]
  },
  {
   "cell_type": "markdown",
   "metadata": {},
   "source": [
    "\n",
    "8. Image objects do not have drawing methods. What kind of object does? How do you get this kind\n",
    "of object?\n",
    "```\n",
    "\n",
    "Image objects do not have drawing methods themselves. To draw on an Image object, you need to create a ImageDraw object using the ImageDraw.Draw() function\n",
    "```"
   ]
  }
 ],
 "metadata": {
  "language_info": {
   "name": "python"
  },
  "orig_nbformat": 4
 },
 "nbformat": 4,
 "nbformat_minor": 2
}
