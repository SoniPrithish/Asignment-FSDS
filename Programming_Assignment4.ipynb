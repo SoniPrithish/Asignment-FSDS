{
 "cells": [
  {
   "cell_type": "markdown",
   "id": "77a10d24",
   "metadata": {},
   "source": [
    "1. Write a Python Program to Find the Factorial of a Number?\n",
    "\n",
    "\n",
    "\n",
    "\n"
   ]
  },
  {
   "cell_type": "code",
   "execution_count": 1,
   "id": "5afc0eb4",
   "metadata": {},
   "outputs": [
    {
     "name": "stdout",
     "output_type": "stream",
     "text": [
      "Enter a Number14\n",
      "Factorial of the number 14 is 793714773254144\n"
     ]
    }
   ],
   "source": [
    "a=int(input(\"Enter a Number\"))\n",
    "ac=a\n",
    "ab=1\n",
    "for i in range(1,a):\n",
    "    ab=ab*a\n",
    "    ac=ac-1\n",
    "print(f\"Factorial of the number {a} is {ab}\")"
   ]
  },
  {
   "cell_type": "markdown",
   "id": "b7b5b66d",
   "metadata": {},
   "source": [
    "2. Write a Python Program to Display the multiplication Table?"
   ]
  },
  {
   "cell_type": "code",
   "execution_count": 2,
   "id": "6e5b4f8c",
   "metadata": {},
   "outputs": [
    {
     "name": "stdout",
     "output_type": "stream",
     "text": [
      "Enter a number to get multplication Table29\n",
      "29 x 1 = 29\n",
      "29 x 2 = 58\n",
      "29 x 3 = 87\n",
      "29 x 4 = 116\n",
      "29 x 5 = 145\n",
      "29 x 6 = 174\n",
      "29 x 7 = 203\n",
      "29 x 8 = 232\n",
      "29 x 9 = 261\n",
      "29 x 10 = 290\n"
     ]
    }
   ],
   "source": [
    "a=int(input(\"Enter a number to get multplication Table\"))\n",
    "for i in range(1,11):\n",
    "    print(f\"{a} x {i} = {a*i}\")\n"
   ]
  },
  {
   "cell_type": "markdown",
   "id": "12b15bb5",
   "metadata": {},
   "source": [
    "3. Write a Python Program to Print the Fibonacci sequence?"
   ]
  },
  {
   "cell_type": "code",
   "execution_count": 3,
   "id": "04177ddd",
   "metadata": {},
   "outputs": [
    {
     "name": "stdout",
     "output_type": "stream",
     "text": [
      "Enter No of Terms7\n",
      "0\n",
      "1\n",
      "1\n",
      "2\n",
      "3\n",
      "5\n",
      "8\n"
     ]
    }
   ],
   "source": [
    "a=int(input(\"Enter No of Terms\"))\n",
    "n1=0\n",
    "n2=1\n",
    "count=0\n",
    "while count<a:\n",
    "    print(n1)\n",
    "    nt=n1+n2\n",
    "    n1=n2\n",
    "    n2=nt\n",
    "    count=count+1\n",
    "    "
   ]
  },
  {
   "cell_type": "markdown",
   "id": "a89b9256",
   "metadata": {},
   "source": [
    "4. Write a Python Program to Check Armstrong Number?"
   ]
  },
  {
   "cell_type": "code",
   "execution_count": 17,
   "id": "984120e9",
   "metadata": {},
   "outputs": [
    {
     "name": "stdout",
     "output_type": "stream",
     "text": [
      "Enter a Number 370\n",
      "370 is an Armstrongs Number\n"
     ]
    }
   ],
   "source": [
    "a=int(input(\"Enter a Number \"))\n",
    "ab=str(a)\n",
    "sum=0\n",
    "ad=a\n",
    "for i in range(int(ab)):\n",
    "    d=ad%10\n",
    "    sum=sum+(d**3)\n",
    "    ad=int(ad/10)\n",
    "    \n",
    "if sum==a:\n",
    "    print(f\"{a} is an Armstrongs Number\")\n",
    "else:\n",
    "    print(f\"{a} is Not an Amstrongs Number\")\n",
    "      \n",
    "   "
   ]
  },
  {
   "cell_type": "markdown",
   "id": "f6e076ab",
   "metadata": {},
   "source": [
    "5. Write a Python Program to Find Armstrong Number in an Interval?"
   ]
  },
  {
   "cell_type": "code",
   "execution_count": 23,
   "id": "a120f23b",
   "metadata": {},
   "outputs": [
    {
     "name": "stdout",
     "output_type": "stream",
     "text": [
      "Enter The Starting Range0\n",
      "Enter The Ending Range10000\n",
      "0\n",
      "1\n",
      "153\n",
      "370\n",
      "371\n",
      "407\n"
     ]
    }
   ],
   "source": [
    "num1=int(input(\"Enter The Starting Range\"))\n",
    "num2=int(input(\"Enter The Ending Range\"))\n",
    "c=num2+1\n",
    "for i in range(num1,(num2+1)):\n",
    "    ab=str(i)\n",
    "    sum=0\n",
    "    ad=i\n",
    "    for j in range(int(ab)):\n",
    "        d=ad%10\n",
    "        sum=sum+(d**3)\n",
    "        ad=int(ad/10)\n",
    "    if sum==i:\n",
    "        print(i)\n",
    "\n"
   ]
  },
  {
   "cell_type": "markdown",
   "id": "d43ef727",
   "metadata": {},
   "source": [
    "6. Write a Python Program to Find the Sum of Natural Numbers?"
   ]
  },
  {
   "cell_type": "code",
   "execution_count": 24,
   "id": "5f4544b2",
   "metadata": {},
   "outputs": [
    {
     "name": "stdout",
     "output_type": "stream",
     "text": [
      "Enter a Number10\n",
      "Sum of Natural Number is 55\n"
     ]
    }
   ],
   "source": [
    "a=int(input(\"Enter a Number\"))\n",
    "sum=0\n",
    "if a<0:\n",
    "    print(\"Enter a Natural Number\")\n",
    "else:\n",
    "    while a>0:\n",
    "        sum=sum+a\n",
    "        a=a-1\n",
    "    print(f\"Sum of Natural Number is {sum}\")    "
   ]
  },
  {
   "cell_type": "code",
   "execution_count": null,
   "id": "ff44d3f8",
   "metadata": {},
   "outputs": [],
   "source": []
  }
 ],
 "metadata": {
  "kernelspec": {
   "display_name": "Python 3",
   "language": "python",
   "name": "python3"
  },
  "language_info": {
   "codemirror_mode": {
    "name": "ipython",
    "version": 3
   },
   "file_extension": ".py",
   "mimetype": "text/x-python",
   "name": "python",
   "nbconvert_exporter": "python",
   "pygments_lexer": "ipython3",
   "version": "3.8.8"
  }
 },
 "nbformat": 4,
 "nbformat_minor": 5
}
