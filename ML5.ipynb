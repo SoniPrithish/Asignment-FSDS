{
 "cells": [
  {
   "cell_type": "markdown",
   "metadata": {},
   "source": [
    "1. What are the key tasks that machine learning entails? What does data pre-processing imply?\n",
    "```\n",
    "The key tasks in machine learning include:\n",
    "\n",
    "a) Data collection: Gathering relevant data for the modeling task.\n",
    "\n",
    "b) Data preprocessing: Cleaning and transforming the data to ensure its quality and suitability for analysis. It involves handling missing values, outliers, data normalization, and feature scaling.\n",
    "\n",
    "c) Feature engineering: Creating new features or selecting informative features from the existing ones to enhance the predictive power of the model.\n",
    "\n",
    "d) Model selection: Choosing an appropriate machine learning algorithm or model that best fits the problem and data characteristics.\n",
    "\n",
    "e) Model training: Training the selected model using the prepared dataset to learn patterns and make predictions.\n",
    "\n",
    "f) Model evaluation: Assessing the performance of the trained model using appropriate evaluation metrics to ensure its effectiveness.\n",
    "\n",
    "g) Model deployment: Integrating the trained model into a production environment to make predictions or automate decision-making.\n",
    "\n",
    "Data preprocessing refers to the tasks involved in preparing the raw data for analysis. It includes cleaning the data by handling missing values and outliers, transforming the data into a suitable format, normalizing or scaling the data, and encoding categorical variables for machine learning algorithms to process.\n",
    "\n",
    "```"
   ]
  },
  {
   "cell_type": "markdown",
   "metadata": {},
   "source": [
    "\n",
    "2. Describe quantitative and qualitative data in depth. Make a distinction between the two.\n",
    "```\n",
    "\n",
    "Quantitative data refers to numerical data that can be measured and expressed using numbers. It involves quantities or values that can be compared or subjected to mathematical operations. Examples of quantitative data include age, height, temperature, or income.\n",
    "\n",
    "Qualitative data, also known as categorical or nominal data, represents qualities or attributes that cannot be measured using numerical values. It involves categories or labels that represent characteristics or properties. Examples of qualitative data include gender, color, nationality, or product categories.\n",
    "\n",
    "The distinction between quantitative and qualitative data lies in the nature of the data and how it is represented and analyzed. Quantitative data can be manipulated mathematically, and statistical analysis can be performed on it. In contrast, qualitative data involves non-numerical categories, and analysis techniques focus on frequency counts, proportions, or qualitative interpretations.\n",
    "\n",
    "```"
   ]
  },
  {
   "cell_type": "markdown",
   "metadata": {},
   "source": [
    "3. Create a basic data collection that includes some sample records. Have at least one attribute from\n",
    "each of the machine learning data types.\n",
    "```\n",
    "\n",
    "Example of a basic data collection:\n",
    "\n",
    "Attribute\tType\tSample Value\n",
    "Age\tQuantitative\t30\n",
    "Gender\tQualitative\tFemale\n",
    "Income\tQuantitative\t50000\n",
    "Education\tQualitative\tBachelor's\n",
    "Temperature\tQuantitative\t25.5\n",
    "The various causes of machine learning data issues include:\n",
    "\n",
    "```"
   ]
  },
  {
   "cell_type": "markdown",
   "metadata": {},
   "source": [
    "\n",
    "4. What are the various causes of machine learning data issues? What are the ramifications?\n",
    "```\n",
    "\n",
    "a) Missing data: Some data instances may have missing values, either due to data entry errors, incomplete data collection, or intentional non-response. This can lead to biased or inaccurate models if not handled properly.\n",
    "\n",
    "b) Outliers: Outliers are extreme values that deviate significantly from the majority of the data. They can distort the analysis and affect the model's performance.\n",
    "\n",
    "c) Imbalanced data: Imbalance occurs when the distribution of classes or target variables is uneven, with one class dominating the majority of the data. This can lead to biased models and inaccurate predictions for the minority class.\n",
    "\n",
    "d) Noisy data: Noisy data contains errors, inconsistencies, or irrelevant information that can negatively impact the model's performance and accuracy.\n",
    "\n",
    "The ramifications of these data issues can include biased models, inaccurate predictions, reduced model performance, and compromised decision-making based on the model's outputs.\n",
    "\n",
    "\n",
    "```"
   ]
  },
  {
   "cell_type": "markdown",
   "metadata": {},
   "source": [
    "\n",
    "5. Demonstrate various approaches to categorical data exploration with appropriate examples.\n",
    "```\n",
    "Approaches to categorical data exploration:\n",
    "\n",
    "a) Frequency distribution: Calculate the frequency or count of each category to understand the distribution and identify the dominant or rare categories.\n",
    "\n",
    "b) Bar chart: Visualize the frequency distribution using a bar chart, where each category is represented by a bar whose height corresponds to its frequency.\n",
    "\n",
    "c) Pie chart: Display the proportion or percentage distribution of each category using a circular chart divided into sectors.\n",
    "\n",
    "d) Cross-tabulation: Explore the relationship between two categorical variables by creating a cross-tabulation or contingency table that displays the count or frequency of each combination of categories.\n",
    "\n",
    "\n",
    "```"
   ]
  },
  {
   "cell_type": "markdown",
   "metadata": {},
   "source": [
    "\n",
    "6. How would the learning activity be affected if certain variables have missing values? Having said\n",
    "that, what can be done about it?\n",
    "```\n",
    "When certain variables have missing values, the learning activity can be affected as the missing data can lead to biased or inaccurate models. Missing values can disrupt the training process and may cause the model to generalize poorly or produce unreliable predictions.\n",
    "\n",
    "To handle missing values, various techniques can be applied:\n",
    "\n",
    "a) Deletion: Remove instances or features with missing values. This approach is suitable when missingness is random and does not significantly impact the data.\n",
    "\n",
    "b) Imputation: Fill in missing values with estimated values based on patterns or statistical methods. Common imputation techniques include mean imputation, median imputation, or regression imputation.\n",
    "\n",
    "c) Advanced techniques: Use advanced imputation methods such as k-nearest neighbors imputation or multiple imputation that consider relationships among variables to estimate missing values more accurately.\n",
    "\n",
    "\n",
    "```"
   ]
  },
  {
   "cell_type": "markdown",
   "metadata": {},
   "source": [
    "\n",
    "7. Describe the various methods for dealing with missing data values in depth.\n",
    "```\n",
    "Methods for dealing with missing data values:\n",
    "\n",
    "a) Mean/Median imputation: Fill missing values with the mean or median of the available data for that feature.\n",
    "\n",
    "b) Forward or backward fill: Propagate the last observed value forward or the next observed value backward to fill missing values.\n",
    "\n",
    "c) Interpolation: Estimate missing values based on the interpolation of adjacent values or time series patterns.\n",
    "\n",
    "d) Model-based imputation: Use regression or machine learning models to predict missing values based on other features.\n",
    "\n",
    "e) Multiple imputation: Generate multiple plausible imputed datasets to account for uncertainty and variability in missing values.\n",
    "\n",
    "```"
   ]
  },
  {
   "cell_type": "markdown",
   "metadata": {},
   "source": [
    "\n",
    "8. What are the various data pre-processing techniques? Explain dimensionality reduction and\n",
    "function selection in a few words.\n",
    "```\n",
    "\n",
    "Data preprocessing techniques:\n",
    "\n",
    "a) Dimensionality reduction: Reducing the number of features or variables in the dataset to simplify the model and improve computational efficiency. Techniques include principal component analysis (PCA) and feature selection based on statistical measures or machine learning algorithms.\n",
    "\n",
    "b) Feature selection: Selecting the most relevant features that have the most predictive power for the target variable. This helps reduce noise, improve model performance, and interpretability.\n",
    "\n",
    "\n",
    "```"
   ]
  },
  {
   "cell_type": "markdown",
   "metadata": {},
   "source": [
    "\n",
    "9. \n",
    "\n",
    "i. What is the IQR? What criteria are used to assess it?\n",
    "\n",
    "ii. Describe the various components of a box plot in detail? When will the lower whisker\n",
    "surpass the upper whisker in length? How can box plots be used to identify outliers?\n",
    "```\n",
    "i. IQR (Interquartile Range): The IQR is a measure of statistical dispersion, representing the range between the 75th percentile (Q3) and the 25th percentile (Q1) of a dataset. It indicates the spread or variability of the middle 50% of the data. The IQR is used to identify outliers and assess the distribution's skewness.\n",
    "\n",
    "ii. Box plot components:\n",
    "  - Median: The middle value that separates the lower and upper halves of the data.\n",
    "\n",
    "  - Lower quartile (Q1): The value below which 25% of the data falls.\n",
    "\n",
    "  - Upper quartile (Q3): The value below which 75% of the data falls.\n",
    "\n",
    "  - Whiskers: Lines extending from the box that represent the data range within a certain distance from the quartiles. Outliers lying beyond the whiskers are plotted as individual points.\n",
    "\n",
    "  The lower whisker can surpass the upper whisker in length when the data is skewed or when there are outliers in the lower range of the data. Box plots can be used to identify outliers as data points lying beyond the whiskers.\n",
    "\n",
    "```\n"
   ]
  },
  {
   "cell_type": "markdown",
   "metadata": {},
   "source": [
    "10. Make brief notes on any two of the following:\n",
    "\n",
    "1. Data collected at regular intervals\n",
    "\n",
    "2. The gap between the quartiles\n",
    "\n",
    "3. Use a cross-tab\n",
    "```\n",
    "a) Data collected at regular intervals: This refers to time series data where observations are recorded at fixed time intervals, such as hourly, daily, or monthly. It is used to analyze trends, patterns, and seasonality over time.\n",
    "\n",
    "b) The gap between the quartiles: The gap between the quartiles, also known as the interquartile range (IQR), measures the spread or variability of the middle 50% of the data. It provides insights into the data's dispersion and can be used to detect outliers or\n",
    "\n",
    "c) Use a cross-tab: Cross-tabulation, also known as a contingency table, is a technique used to analyze the relationship between two categorical variables. It displays the frequency or count of observations in each combination of categories for the two variables. Cross-tabs help identify associations, dependencies, or patterns between categorical variables.\n",
    "```"
   ]
  },
  {
   "cell_type": "markdown",
   "metadata": {},
   "source": [
    "\n",
    "11. Make a comparison between:\n",
    "\n",
    "1. Data with nominal and ordinal values\n",
    "\n",
    "2. Histogram and box plot\n",
    "\n",
    "3. The average and median\n",
    "```\n",
    "1. Data with nominal and ordinal values:\n",
    "   Nominal data represents categories or labels with no inherent order, such as colors or types of animals. Ordinal data also represents categories but with a natural ordering or hierarchy, such as education levels (e.g., high school, bachelor's, master's). Nominal data cannot be ranked, while ordinal data can be ordered.\n",
    "\n",
    "2. Histogram and box plot:\n",
    "   A histogram is a graphical representation of the distribution of numerical data. It displays the frequencies or counts of data points falling within specified intervals (bins). A box plot, on the other hand, provides a visual summary of the distribution of numerical data using quartiles and outliers. It displays the median, quartiles, and whiskers to identify the spread, skewness, and outliers.\n",
    "\n",
    "3. The average and median:\n",
    "   The average, also known as the mean, is the sum of all values divided by the number of values. It is sensitive to extreme values and can be influenced by outliers. The median, on the other hand, is the middle value in a sorted dataset. It is less sensitive to extreme values and provides a measure of central tendency. The average and median can differ when there are outliers or skewed distributions in the data.\n",
    "\n",
    "```"
   ]
  },
  {
   "cell_type": "markdown",
   "metadata": {},
   "source": []
  }
 ],
 "metadata": {
  "language_info": {
   "name": "python"
  },
  "orig_nbformat": 4
 },
 "nbformat": 4,
 "nbformat_minor": 2
}
