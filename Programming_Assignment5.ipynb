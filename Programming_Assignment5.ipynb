{
 "cells": [
  {
   "cell_type": "markdown",
   "id": "154f68a3",
   "metadata": {},
   "source": [
    "1. Write a Python Program to Find LCM?\n",
    "\n",
    "\n",
    "\n"
   ]
  },
  {
   "cell_type": "code",
   "execution_count": 29,
   "id": "bd165df6",
   "metadata": {},
   "outputs": [
    {
     "name": "stdout",
     "output_type": "stream",
     "text": [
      "Enter First Number4\n",
      "Second Number9\n",
      "36\n"
     ]
    }
   ],
   "source": [
    "a=int(input(\"Enter First Number\"))\n",
    "b=int(input(\"Second Number\"))\n",
    "\n",
    "if a > b:\n",
    "       greater = a\n",
    "else:\n",
    "       greater = b\n",
    "\n",
    "while(True):\n",
    "    if((greater % a == 0) and (greater % b == 0)):\n",
    "        lcm = greater\n",
    "        break\n",
    "    greater += 1\n",
    "\n",
    "print(lcm)"
   ]
  },
  {
   "cell_type": "markdown",
   "id": "67fcf0e5",
   "metadata": {},
   "source": [
    "2. Write a Python Program to Find HCF?"
   ]
  },
  {
   "cell_type": "code",
   "execution_count": 30,
   "id": "dfc513bd",
   "metadata": {},
   "outputs": [
    {
     "name": "stdout",
     "output_type": "stream",
     "text": [
      "Enter First Number50\n",
      "Second Number250\n",
      "HCF: 50\n"
     ]
    }
   ],
   "source": [
    "a=int(input(\"Enter First Number\"))\n",
    "b=int(input(\"Second Number\"))\n",
    "if a > b:\n",
    "    smaller = b\n",
    "else:\n",
    "    smaller = a\n",
    "for i in range(1, smaller+1):\n",
    "    if((a % i == 0) and (b % i == 0)):\n",
    "        hcf = i\n",
    "print(f\"HCF: {hcf}\")"
   ]
  },
  {
   "cell_type": "markdown",
   "id": "a2f3ab51",
   "metadata": {},
   "source": [
    "3. Write a Python Program to Convert Decimal to Binary, Octal and Hexadecimal?"
   ]
  },
  {
   "cell_type": "code",
   "execution_count": 34,
   "id": "1f65503d",
   "metadata": {},
   "outputs": [
    {
     "name": "stdout",
     "output_type": "stream",
     "text": [
      "Enter Decimal no to Convert4\n",
      "The decimal value of 4 is:\n",
      "0b100 in binary.\n",
      "0o4 in octal.\n",
      "0x4 in hexadecimal.\n"
     ]
    }
   ],
   "source": [
    "a=int(input(\"Enter Decimal no to Convert\"))\n",
    "print(\"The decimal value of\", a, \"is:\")\n",
    "print(f\"{bin(a)} in binary.\")\n",
    "print(f\"{oct(a)} in octal.\")\n",
    "print(f\"{hex(a)} in hexadecimal.\")"
   ]
  },
  {
   "cell_type": "markdown",
   "id": "119c435c",
   "metadata": {},
   "source": [
    "4. Write a Python Program To Find ASCII value of a character?"
   ]
  },
  {
   "cell_type": "code",
   "execution_count": 20,
   "id": "a01ccb60",
   "metadata": {},
   "outputs": [
    {
     "name": "stdout",
     "output_type": "stream",
     "text": [
      "Entetr a character to find ascii ValueB\n"
     ]
    },
    {
     "data": {
      "text/plain": [
       "66"
      ]
     },
     "execution_count": 20,
     "metadata": {},
     "output_type": "execute_result"
    }
   ],
   "source": [
    "a=input(\"Entetr a character to find ascii Value\")\n",
    "ord(a)"
   ]
  },
  {
   "cell_type": "markdown",
   "id": "a74a2f85",
   "metadata": {},
   "source": [
    "5. Write a Python Program to Make a Simple Calculator with 4 basic mathematical operations?"
   ]
  },
  {
   "cell_type": "code",
   "execution_count": 21,
   "id": "0d086d47",
   "metadata": {},
   "outputs": [
    {
     "name": "stdout",
     "output_type": "stream",
     "text": [
      "Enter First Number5\n",
      "Chose any one out of + - / *+\n",
      "Enter Second Number4\n",
      "9.0\n"
     ]
    }
   ],
   "source": [
    "a=float(input(\"Enter First Number\"))\n",
    "op=input(\"Chose any one out of + - / *\")\n",
    "b=float(input(\"Enter Second Number\"))\n",
    "\n",
    "if op==\"+\":\n",
    "    print(a+b)\n",
    "elif op==\"-\":\n",
    "    print(a-b)\n",
    "elif op==\"*\":\n",
    "    print(a*b)\n",
    "elif op==\"/\":\n",
    "    print(a/b)"
   ]
  },
  {
   "cell_type": "code",
   "execution_count": null,
   "id": "29686f40",
   "metadata": {},
   "outputs": [],
   "source": []
  }
 ],
 "metadata": {
  "kernelspec": {
   "display_name": "Python 3",
   "language": "python",
   "name": "python3"
  },
  "language_info": {
   "codemirror_mode": {
    "name": "ipython",
    "version": 3
   },
   "file_extension": ".py",
   "mimetype": "text/x-python",
   "name": "python",
   "nbconvert_exporter": "python",
   "pygments_lexer": "ipython3",
   "version": "3.8.8"
  }
 },
 "nbformat": 4,
 "nbformat_minor": 5
}
