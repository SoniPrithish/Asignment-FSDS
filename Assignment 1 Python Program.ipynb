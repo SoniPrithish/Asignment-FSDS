{
 "cells": [
  {
   "cell_type": "markdown",
   "id": "01f3cdb4",
   "metadata": {},
   "source": [
    "1. Write a Python program to print \"Hello Python\"?\n"
   ]
  },
  {
   "cell_type": "code",
   "execution_count": 2,
   "id": "5fc411f6",
   "metadata": {},
   "outputs": [
    {
     "name": "stdout",
     "output_type": "stream",
     "text": [
      "Hello Python\n"
     ]
    }
   ],
   "source": [
    "print(\"Hello Python\")"
   ]
  },
  {
   "cell_type": "markdown",
   "id": "a56b5109",
   "metadata": {},
   "source": [
    "2. Write a Python program to do arithmetical operations addition and division.?"
   ]
  },
  {
   "cell_type": "code",
   "execution_count": 8,
   "id": "00f161b2",
   "metadata": {},
   "outputs": [
    {
     "name": "stdout",
     "output_type": "stream",
     "text": [
      "A+B=  13\n",
      "B/A=  1.6\n"
     ]
    }
   ],
   "source": [
    "a=5\n",
    "b=8\n",
    "print(\"A+B= \",a+b)\n",
    "print(\"B/A= \",b/a)"
   ]
  },
  {
   "cell_type": "markdown",
   "id": "78d7a881",
   "metadata": {},
   "source": [
    "\n",
    "3. Write a Python program to find the area of a triangle?\n"
   ]
  },
  {
   "cell_type": "code",
   "execution_count": 11,
   "id": "3cd215cf",
   "metadata": {},
   "outputs": [
    {
     "name": "stdout",
     "output_type": "stream",
     "text": [
      "Area of Triangle is 25.0 Sq Units\n"
     ]
    }
   ],
   "source": [
    "Base=10\n",
    "Height=5\n",
    "print(\"Area of Triangle is\",0.5*Base*Height,\"Sq Units\")"
   ]
  },
  {
   "cell_type": "markdown",
   "id": "c5aa4307",
   "metadata": {},
   "source": [
    "4. Write a Python program to swap two variables?\n"
   ]
  },
  {
   "cell_type": "code",
   "execution_count": 13,
   "id": "f68b234f",
   "metadata": {},
   "outputs": [
    {
     "name": "stdout",
     "output_type": "stream",
     "text": [
      "Before Swapping A and B are 5 3\n",
      "After Swapping A and B are 3 5\n"
     ]
    }
   ],
   "source": [
    "a=5\n",
    "b=3\n",
    "print(\"Before Swapping A and B are\",a,b)\n",
    "a=a+b\n",
    "b=a-b\n",
    "a=a-b\n",
    "print(\"After Swapping A and B are\",a,b)"
   ]
  },
  {
   "cell_type": "markdown",
   "id": "197e028c",
   "metadata": {},
   "source": [
    "5. Write a Python program to generate a random number?"
   ]
  },
  {
   "cell_type": "code",
   "execution_count": 19,
   "id": "ae9bf383",
   "metadata": {},
   "outputs": [
    {
     "name": "stdout",
     "output_type": "stream",
     "text": [
      "Random Number is 90\n"
     ]
    }
   ],
   "source": [
    "import random\n",
    "a=random.randint(0,100)\n",
    "print(\"Random Number is\",a)"
   ]
  },
  {
   "cell_type": "code",
   "execution_count": null,
   "id": "0b258594",
   "metadata": {},
   "outputs": [],
   "source": []
  }
 ],
 "metadata": {
  "kernelspec": {
   "display_name": "Python 3",
   "language": "python",
   "name": "python3"
  },
  "language_info": {
   "codemirror_mode": {
    "name": "ipython",
    "version": 3
   },
   "file_extension": ".py",
   "mimetype": "text/x-python",
   "name": "python",
   "nbconvert_exporter": "python",
   "pygments_lexer": "ipython3",
   "version": "3.8.8"
  }
 },
 "nbformat": 4,
 "nbformat_minor": 5
}
